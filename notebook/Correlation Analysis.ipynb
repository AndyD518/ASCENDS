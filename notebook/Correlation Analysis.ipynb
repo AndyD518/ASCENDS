{
 "cells": [
  {
   "cell_type": "code",
   "execution_count": 138,
   "metadata": {},
   "outputs": [],
   "source": [
    "import ascends as asc\n",
    "import numpy as np\n",
    "from minepy import MINE\n",
    "import pandas as pd\n",
    "import matplotlib.pyplot as plt"
   ]
  },
  {
   "cell_type": "code",
   "execution_count": 156,
   "metadata": {},
   "outputs": [],
   "source": [
    "def correlation_analysis_all(data_df, target_col, top_k=10, file_to_save = None, save_chart = None):\n",
    "    pcc = data_df.corr()[target_col]\n",
    "    if(len(pcc)<top_k):\n",
    "        top_k=len(correlation)\n",
    "    pcc = pcc.sort_values(ascending = False).dropna()\n",
    "    pcc = pcc.rename(\"PCC\")\n",
    "    del pcc[target_col]\n",
    "\n",
    "    pcc_sqrt = pcc.apply(lambda x: np.sqrt(x* x))\n",
    "    pcc_sqrt = pcc_sqrt.sort_values(ascending = False).dropna()\n",
    "    pcc_sqrt = pcc_sqrt.rename(\"PCC_SQRT\")\n",
    "    MICs = []\n",
    "    MASs = []\n",
    "    MEVs = []\n",
    "    MCNs = []\n",
    "    MCN_generals = []\n",
    "    GMICs = []\n",
    "    TICs = []\n",
    "\n",
    "    for col in data_df.columns:\n",
    "        if col!=target_col:\n",
    "            x = data_df[col].values\n",
    "            y = data_df[target_col].values\n",
    "            mine = MINE()\n",
    "            mine.compute_score(x,y)\n",
    "            MICs.append((col,mine.mic()))\n",
    "            MASs.append((col,mine.mas()))\n",
    "            MEVs.append((col,mine.mev()))\n",
    "            MCNs.append((col,mine.mcn(0)))\n",
    "            MCN_generals.append((col,mine.mcn_general()))\n",
    "            GMICs.append((col,mine.gmic()))\n",
    "            TICs.append((col,mine.tic())) \n",
    "\n",
    "    top_k_pcc = list(pcc.keys())[:top_k]\n",
    "    top_k_pcc_sqrt = list(pcc_sqrt.keys())[:top_k]\n",
    "    top_k_mic = [tup[0] for tup in sorted(MICs, key=lambda tup: tup[1], reverse = True)[:top_k]]\n",
    "    top_k_mas = [tup[0] for tup in sorted(MASs, key=lambda tup: tup[1], reverse = True)[:top_k]]\n",
    "    top_k_mev = [tup[0] for tup in sorted(MEVs, key=lambda tup: tup[1], reverse = True)[:top_k]]\n",
    "    top_k_mcn = [tup[0] for tup in sorted(MCNs, key=lambda tup: tup[1], reverse = True)[:top_k]]\n",
    "    top_k_mcn_general = [tup[0] for tup in sorted(MCN_generals, key=lambda tup: tup[1], reverse = True)[:top_k]]\n",
    "    top_k_gmic = [tup[0] for tup in sorted(GMICs, key=lambda tup: tup[1], reverse = True)[:top_k]]\n",
    "    top_k_tic = [tup[0] for tup in sorted(TICs, key=lambda tup: tup[1], reverse = True)[:top_k]]\n",
    "    \n",
    "    if file_to_save is not None:\n",
    "        # save to correlation report\n",
    "        mic_df = pd.DataFrame([tup[1] for tup in MICs],columns=['MIC'],index=[tup[0] for tup in MICs])\n",
    "        mas_df = pd.DataFrame([tup[1] for tup in MASs],columns=['MAS'],index=[tup[0] for tup in MASs])\n",
    "        mev_df = pd.DataFrame([tup[1] for tup in MEVs],columns=['MEV'],index=[tup[0] for tup in MEVs])\n",
    "        mcn_df = pd.DataFrame([tup[1] for tup in MCNs],columns=['MCN'],index=[tup[0] for tup in MCNs])\n",
    "        mcn_general_df = pd.DataFrame([tup[1] for tup in MCN_generals],columns=['MCN_general'],index=[tup[0] for tup in MCN_generals])\n",
    "        gmic_df = pd.DataFrame([tup[1] for tup in GMICs],columns=['GMIC'],index=[tup[0] for tup in GMICs])\n",
    "        tic_df = pd.DataFrame([tup[1] for tup in TICs],columns=['TIC'],index=[tup[0] for tup in TICs])\n",
    "              \n",
    "        final_report = mic_df.join(mas_df).join(mev_df).join(mcn_df).join(mcn_general_df).join(gmic_df).join(tic_df).sort_index().join(pcc_sqrt).join(pcc)\n",
    "        final_report.to_csv(file_to_save)\n",
    "    \n",
    "    if save_chart is not None:\n",
    "        for col in final_report.keys():\n",
    "            ax = final_report[col].sort_values(ascending=False).plot(kind='bar',alpha=0.8)\n",
    "            ax.set_ylabel(col+\" (target_col = '\"+target_col+\"')\", fontsize=12)\n",
    "            plt.axhline(0, color='k')\n",
    "            plt.savefig(save_chart+\",\"+col+\" (target_col = '\"+target_col+\"').png\")\n",
    "            plt.close()\n",
    "\n",
    "    return final_report, top_k_pcc, top_k_pcc_sqrt, top_k_mic, top_k_mas, top_k_mev,\\\n",
    "top_k_mcn, top_k_mcn, top_k_mcn_general, top_k_gmic, top_k_tic"
   ]
  },
  {
   "cell_type": "code",
   "execution_count": 157,
   "metadata": {
    "collapsed": true
   },
   "outputs": [],
   "source": [
    "data_df, x_train, y_train, header_x, header_y = asc.data_load_shuffle('data/creep.csv', None, ['id','Name','logRT'], 'LMP', random_state=None)"
   ]
  },
  {
   "cell_type": "code",
   "execution_count": 158,
   "metadata": {},
   "outputs": [],
   "source": [
    "final_report, top_k_pcc, top_k_pcc_sqrt, top_k_mic, top_k_mas, top_k_mev,\\\n",
    "top_k_mcn, top_k_mcn, top_k_mcn_general, top_k_gmics, top_k_tic = correlation_analysis_all(data_df, 'LMP', 5, file_to_save = 'test', save_chart = 'test')"
   ]
  },
  {
   "cell_type": "code",
   "execution_count": null,
   "metadata": {
    "collapsed": true
   },
   "outputs": [],
   "source": []
  }
 ],
 "metadata": {
  "kernelspec": {
   "display_name": "Python 3",
   "language": "python",
   "name": "python3"
  },
  "language_info": {
   "codemirror_mode": {
    "name": "ipython",
    "version": 3
   },
   "file_extension": ".py",
   "mimetype": "text/x-python",
   "name": "python",
   "nbconvert_exporter": "python",
   "pygments_lexer": "ipython3",
   "version": "3.6.1"
  }
 },
 "nbformat": 4,
 "nbformat_minor": 2
}
