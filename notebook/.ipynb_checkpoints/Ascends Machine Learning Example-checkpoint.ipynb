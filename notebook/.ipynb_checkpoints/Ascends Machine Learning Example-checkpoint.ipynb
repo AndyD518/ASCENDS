{
 "cells": [
  {
   "cell_type": "code",
   "execution_count": 1,
   "metadata": {},
   "outputs": [
    {
     "ename": "ModuleNotFoundError",
     "evalue": "No module named 'ascends'",
     "output_type": "error",
     "traceback": [
      "\u001b[0;31m---------------------------------------------------------------------------\u001b[0m",
      "\u001b[0;31mModuleNotFoundError\u001b[0m                       Traceback (most recent call last)",
      "\u001b[0;32m<ipython-input-1-d3dad460676f>\u001b[0m in \u001b[0;36m<module>\u001b[0;34m()\u001b[0m\n\u001b[1;32m      1\u001b[0m \u001b[0;32mimport\u001b[0m \u001b[0mnumpy\u001b[0m \u001b[0;32mas\u001b[0m \u001b[0mnp\u001b[0m\u001b[0;34m\u001b[0m\u001b[0m\n\u001b[0;32m----> 2\u001b[0;31m \u001b[0;32mimport\u001b[0m \u001b[0mascends\u001b[0m \u001b[0;32mas\u001b[0m \u001b[0masc\u001b[0m\u001b[0;34m\u001b[0m\u001b[0m\n\u001b[0m\u001b[1;32m      3\u001b[0m \u001b[0;32mimport\u001b[0m \u001b[0mkeras\u001b[0m\u001b[0;34m\u001b[0m\u001b[0m\n",
      "\u001b[0;31mModuleNotFoundError\u001b[0m: No module named 'ascends'"
     ]
    }
   ],
   "source": [
    "import numpy as np\n",
    "import ascends as asc\n",
    "import keras"
   ]
  },
  {
   "cell_type": "code",
   "execution_count": 17,
   "metadata": {
    "collapsed": true
   },
   "outputs": [],
   "source": [
    "# Adding some more data for this particular example\n",
    "\n",
    "def add_reference_alloy_data(x_train, header_x, stress_key = 'Stress'):\n",
    "    \n",
    "    for i in range(0, len(header_x)):\n",
    "        if(header_x[i]==stress_key):\n",
    "            idx_of_stress = i\n",
    "    \n",
    "    # experimental code\n",
    "    x_train_update = []\n",
    "\n",
    "    y_1 = []\n",
    "    y_2 = []\n",
    "    \n",
    "    for i in range(0,len(x_train)):\n",
    "\n",
    "        x = x_train[i]\n",
    "        y = y_train[i][0]\n",
    "        Stress = x[idx_of_stress]\n",
    "\n",
    "        # data came fromTP347HFG-NF709, TP347HFG reference alloys\n",
    "        x_update = list(x)\n",
    "        if(Stress) ==70:\n",
    "            x_update+=[24563.25,24126]\n",
    "        elif(Stress) ==100:\n",
    "            x_update+=[23592,23174]\n",
    "        elif(Stress) ==130:\n",
    "            x_update+=[22812.5,22553]\n",
    "        elif(Stress) ==170:\n",
    "            x_update+=[22198,22050.5]\n",
    "        elif(Stress) ==200:\n",
    "            x_update+=[21612.5,21276]\n",
    "        elif(Stress) ==250:\n",
    "            x_update+=[20899.25,20562]\n",
    "        elif(Stress) ==300:\n",
    "            x_update+=[20317.75,19825.5]\n",
    "\n",
    "        if(x_update[-1]<y):\n",
    "            y_1.append([1])\n",
    "        else:\n",
    "            y_1.append([0])\n",
    "\n",
    "        if(x_update[-2]<y):\n",
    "            y_2.append([1])\n",
    "        else:\n",
    "            y_2.append([0])\n",
    "\n",
    "        x_train_update.append(x_update)\n",
    "\n",
    "    x_train_update = np.array(x_train_update)\n",
    "    x_train = x_train_update\n",
    "    y_1 = np.array(y_1)\n",
    "    y_2 = np.array(y_2)\n",
    "    \n",
    "    header_x = np.append(header_x, ['TP347HFG-NF709', 'TP347HFG'])\n",
    "\n",
    "    return x_train, header_x, y_1, y_2"
   ]
  },
  {
   "cell_type": "code",
   "execution_count": 18,
   "metadata": {},
   "outputs": [
    {
     "name": "stdout",
     "output_type": "stream",
     "text": [
      "{'scaler': 'MinMaxScaler', 'rf_n_estimators': '20', 'rf_max_features': 'sqrt', 'rf_max_depth': '110', 'rf_min_samples_split': '2', 'rf_min_samples_leaf': '1', 'rf_bootstrap': 'False', 'rf_criterion': 'mse', 'rf_min_weight_fraction_leaf': '0.', 'rf_max_leaf_nodes': 'None', 'rf_min_impurity_decrease': '0.', 'rf_min_impurity_split': '1e-7', 'rf_oob_score': 'False', 'nn_n_neighbors': '5', 'nn_weights': 'distance', 'nn_algorithm': 'kd_tree', 'nn_leaf_size': '77', 'nn_p': '1', 'nn_metric': 'minkowski', 'nn_metric_params': 'None', 'kr_alpha': '1', 'kr_kernel': 'linear', 'kr_gamma': 'sigmoid', 'kr_degree': '3', 'kr_coef0': '2', 'br_n_iter': '300', 'br_alpha_1': '1.2e-6', 'br_alpha_2': '1.e-7', 'br_tol': '0.01', 'br_lambda_1': '1.e-5', 'br_lambda_2': '1.e-7', 'br_compute_score': 'True', 'br_fit_intercept': 'True', 'br_normalize': 'False', 'svm_kernel': 'rbf', 'svm_degree': '3', 'svm_coef0': '3.0', 'svm_tol': '0.0056', 'svm_c': '3158', 'svm_epsilon': '0.1', 'svm_shrinking': 'True', 'svm_gamma': 'auto', 'svm_max_iter': '1'}\n"
     ]
    }
   ],
   "source": [
    "# Loading a config file from\n",
    "config_file = 'config/creep_more_features.properties'\n",
    "\n",
    "# Now all config parameters are set \n",
    "config, csv_file, cols_to_remove, target_col, scaler_option, path_to_mine_jar, \\\n",
    "output_dir, num_of_features, num_of_folds, num_of_sets, model_parameters = asc.load_cfg(config_file)\n",
    "\n",
    "print(model_parameters)"
   ]
  },
  {
   "cell_type": "code",
   "execution_count": 19,
   "metadata": {
    "collapsed": true
   },
   "outputs": [],
   "source": [
    "# load data from csv file\n",
    "data_df, x_train, y_train, header_x, header_y = asc.data_load_shuffle(csv_file, None, cols_to_remove, target_col)\n",
    "\n",
    "# enrich data (optional), in this example, we added two more columns by using a custom function\n",
    "x_train, header_x, y_1, y_2 = add_reference_alloy_data(x_train, header_x, stress_key='Stress')"
   ]
  },
  {
   "cell_type": "code",
   "execution_count": 20,
   "metadata": {
    "scrolled": true
   },
   "outputs": [
    {
     "name": "stdout",
     "output_type": "stream",
     "text": [
      "* Calculating MIC ..\n",
      "* Executing the following command: nohup java -jar lib/MINE.jar data/creep_more_features.csv 498 >MINE.log 2>&1&\n",
      "* Done\n",
      "\n",
      "* Calculating PCC ..\n",
      " - Pearson Correlation Coefficient [ output/corr_analysis.png ]\n",
      " - Pearson Correlation Coefficient (SQRT) [ output/corr_analysis.png ]\n",
      "* Done\n"
     ]
    }
   ],
   "source": [
    "# performing correlation analysis\n",
    "correlation_rank = asc.corr_analysis(data_df, target_col, csv_file, path_to_mine_jar, output_dir, show_charts=False, top_k=30)"
   ]
  },
  {
   "cell_type": "code",
   "execution_count": 21,
   "metadata": {
    "collapsed": true
   },
   "outputs": [],
   "source": [
    "# Model Training\n",
    "model_type = 'RF' # model type can be 'LR','RF','NN','KR','BR','SVM'\n",
    "model = asc.define_model_regression(model_type, num_of_features, model_parameters, x_header_size = x_train.shape[1])\n",
    "\n",
    "# Train and Predict\n",
    "predictions, actual_values = asc.train_and_predict(model, x_train, y_train, scaler_option, num_of_folds=num_of_folds)"
   ]
  },
  {
   "cell_type": "code",
   "execution_count": null,
   "metadata": {
    "collapsed": true
   },
   "outputs": [],
   "source": [
    "# Evaluation (k-fold cross validation)\n",
    "RMSE, R2 = asc.evaluate(predictions, actual_values)\n",
    "asc.show_comparison_chart(predictions, actual_values)\n",
    "print(\"* not tuned (%s)\\t RMSE = %8.3f, R2 = %8.3f\"%(model_type, RMSE, R2))"
   ]
  },
  {
   "cell_type": "code",
   "execution_count": 8,
   "metadata": {},
   "outputs": [
    {
     "name": "stdout",
     "output_type": "stream",
     "text": [
      "Fitting 5 folds for each of 1680 candidates, totalling 8400 fits\n"
     ]
    },
    {
     "name": "stderr",
     "output_type": "stream",
     "text": [
      "[Parallel(n_jobs=-1)]: Using backend LokyBackend with 8 concurrent workers.\n",
      "[Parallel(n_jobs=-1)]: Done  34 tasks      | elapsed:    2.1s\n",
      "[Parallel(n_jobs=-1)]: Done 2343 tasks      | elapsed:    5.5s\n",
      "[Parallel(n_jobs=-1)]: Done 8400 out of 8400 | elapsed:   10.6s finished\n"
     ]
    }
   ],
   "source": [
    "# tuning hyper parameters\n",
    "tuned_parameters = asc.hyperparameter_tuning(model_type, x_train, y_train\n",
    "                                             , num_of_folds, scaler_option\n",
    "                                           , n_iter=2000, random_state=0, verbose=1)"
   ]
  },
  {
   "cell_type": "code",
   "execution_count": 9,
   "metadata": {
    "collapsed": true
   },
   "outputs": [],
   "source": [
    "# model training (with tuned parameters)\n",
    "model = asc.define_model_regression(model_type, num_of_features, model_parameters = tuned_parameters, x_header_size = x_train.shape[1])\n",
    "\n",
    "# Train and Predict\n",
    "predictions, actual_values = asc.train_and_predict(model, x_train, y_train, scaler_option, num_of_folds=num_of_folds)"
   ]
  },
  {
   "cell_type": "code",
   "execution_count": 10,
   "metadata": {},
   "outputs": [
    {
     "data": {
      "image/png": "[encoded data removed]",
      "text/plain": [
       "<Figure size 432x288 with 1 Axes>"
      ]
     },
     "metadata": {},
     "output_type": "display_data"
    },
    {
     "name": "stdout",
     "output_type": "stream",
     "text": [
      "* tuned (KR)\t RMSE = 43152.663, R2 = -1972.554\n"
     ]
    }
   ],
   "source": [
    "# Evaluation (k-fold cross validation) after hyperparameter tuning\n",
    "RMSE, R2 = asc.evaluate(predictions, actual_values)\n",
    "asc.show_comparison_chart(predictions, actual_values)\n",
    "print(\"* tuned (%s)\\t RMSE = %8.3f, R2 = %8.3f\"%(model_type, RMSE, R2))"
   ]
  },
  {
   "cell_type": "code",
   "execution_count": 11,
   "metadata": {},
   "outputs": [
    {
     "name": "stdout",
     "output_type": "stream",
     "text": [
      "* Training initiated ..\n",
      "* Training done.\n",
      "{'tag': 'KR-model-tuned-tag', 'model': Pipeline(memory=None,\n",
      "     steps=[('feature_selection', SelectKBest(k=497, score_func=<function f_regression at 0x1a2c3b7d08>)), ('classification', KernelRidge(alpha=50.0, coef0=0.0, degree=1, gamma=None, kernel='linear',\n",
      "      kernel_params=None))]), 'model_abbr': 'KR', 'input_cols': array(['gs', 'dFCC', 'dFECR_B2', 'dL12', 'dLAVES_C14', 'dM23C6',\n",
      "       'dM2B_CB', 'dM3B2_D5A', 'dNbC', 'dNIAL_B2', 'dSIGMA', 'dT',\n",
      "       'Stress', 'T1', 'T1_DGM_NbC', 'T1_FCC_ACR_AL', 'T1_FCC_ACR_CR',\n",
      "       'T1_FCC_ACR_CU', 'T1_FCC_ACR_FE', 'T1_FCC_ACR_MN', 'T1_FCC_ACR_MO',\n",
      "       'T1_FCC_ACR_NB', 'T1_FCC_ACR_NI', 'T1_FCC_ACR_SI', 'T1_FCC_ACR_TI',\n",
      "       'T1_FCC_ACR_V', 'T1_FCC_ACR_W', 'T1_FCC_ACR_Y', 'T1_FCC_ACR_ZR',\n",
      "       'T1_FCC_CX_AL', 'T1_FCC_CX_B', 'T1_FCC_CX_C', 'T1_FCC_CX_CR',\n",
      "       'T1_FCC_CX_CU', 'T1_FCC_CX_FE', 'T1_FCC_CX_MN', 'T1_FCC_CX_MO',\n",
      "       'T1_FCC_CX_NB', 'T1_FCC_CX_NI', 'T1_FCC_CX_SI', 'T1_FCC_CX_TI',\n",
      "       'T1_FCC_CX_V', 'T1_FCC_CX_W', 'T1_FCC_CX_Y', 'T1_FCC_CX_ZR',\n",
      "       'T1_FCC_X_AL', 'T1_FCC_X_B', 'T1_FCC_X_C', 'T1_FCC_X_CR',\n",
      "       'T1_FCC_X_CU', 'T1_FCC_X_FE', 'T1_FCC_X_MN', 'T1_FCC_X_MO',\n",
      "       'T1_FCC_X_NB', 'T1_FCC_X_NI', 'T1_FCC_X_SI', 'T1_FCC_X_TI',\n",
      "       'T1_FCC_X_V', 'T1_FCC_X_W', 'T1_FCC_X_Y', 'T1_FCC_X_ZR',\n",
      "       'T1_L12_X_AL', 'T1_L12_X_B', 'T1_L12_X_C', 'T1_L12_X_CR',\n",
      "       'T1_L12_X_CU', 'T1_L12_X_FE', 'T1_L12_X_MN', 'T1_L12_X_MO',\n",
      "       'T1_L12_X_NB', 'T1_L12_X_NI', 'T1_L12_X_SI', 'T1_L12_X_TI',\n",
      "       'T1_L12_X_V', 'T1_L12_X_W', 'T1_L12_X_Y', 'T1_L12_X_ZR',\n",
      "       'T1_M23C6_CX_B', 'T1_M23C6_CX_C', 'T1_M23C6_CX_CR',\n",
      "       'T1_M23C6_CX_FE', 'T1_M23C6_CX_MN', 'T1_M23C6_CX_MO',\n",
      "       'T1_M23C6_CX_NI', 'T1_M23C6_CX_V', 'T1_M23C6_CX_W', 'T1_M23C6_X_B',\n",
      "       'T1_M23C6_X_C', 'T1_M23C6_X_CR', 'T1_M23C6_X_FE', 'T1_M23C6_X_MN',\n",
      "       'T1_M23C6_X_MO', 'T1_M23C6_X_NI', 'T1_M23C6_X_V', 'T1_M23C6_X_W',\n",
      "       'T1_M2B_CB_CX_B', 'T1_M2B_CB_CX_CR', 'T1_M2B_CB_CX_FE',\n",
      "       'T1_M2B_CB_CX_MN', 'T1_M2B_CB_CX_MO', 'T1_M2B_CB_CX_NI',\n",
      "       'T1_M2B_CB_X_B', 'T1_M2B_CB_X_CR', 'T1_M2B_CB_X_FE',\n",
      "       'T1_M2B_CB_X_MN', 'T1_M2B_CB_X_MO', 'T1_M2B_CB_X_NI',\n",
      "       'T1_M3B2_D5A_CX_B', 'T1_M3B2_D5A_CX_CR', 'T1_M3B2_D5A_CX_FE',\n",
      "       'T1_M3B2_D5A_CX_MO', 'T1_M3B2_D5A_CX_NI', 'T1_M3B2_D5A_CX_W',\n",
      "       'T1_M3B2_D5A_X_B', 'T1_M3B2_D5A_X_CR', 'T1_M3B2_D5A_X_FE',\n",
      "       'T1_M3B2_D5A_X_MO', 'T1_M3B2_D5A_X_NI', 'T1_M3B2_D5A_X_W',\n",
      "       'T1_NbC_ACR_AL', 'T1_NbC_ACR_CR', 'T1_NbC_ACR_CU', 'T1_NbC_ACR_FE',\n",
      "       'T1_NbC_ACR_MN', 'T1_NbC_ACR_MO', 'T1_NbC_ACR_NB', 'T1_NbC_ACR_NI',\n",
      "       'T1_NbC_ACR_SI', 'T1_NbC_ACR_TI', 'T1_NbC_ACR_V', 'T1_NbC_ACR_W',\n",
      "       'T1_NbC_ACR_Y', 'T1_NbC_ACR_ZR', 'T1_NbC_CX_AL', 'T1_NbC_CX_B',\n",
      "       'T1_NbC_CX_C', 'T1_NbC_CX_CR', 'T1_NbC_CX_CU', 'T1_NbC_CX_FE',\n",
      "       'T1_NbC_CX_MN', 'T1_NbC_CX_MO', 'T1_NbC_CX_NB', 'T1_NbC_CX_NI',\n",
      "       'T1_NbC_CX_SI', 'T1_NbC_CX_TI', 'T1_NbC_CX_V', 'T1_NbC_CX_W',\n",
      "       'T1_NbC_CX_Y', 'T1_NbC_CX_ZR', 'T1_NbC_X_AL', 'T1_NbC_X_B',\n",
      "       'T1_NbC_X_C', 'T1_NbC_X_CR', 'T1_NbC_X_CU', 'T1_NbC_X_FE',\n",
      "       'T1_NbC_X_MN', 'T1_NbC_X_MO', 'T1_NbC_X_NB', 'T1_NbC_X_NI',\n",
      "       'T1_NbC_X_SI', 'T1_NbC_X_TI', 'T1_NbC_X_V', 'T1_NbC_X_W',\n",
      "       'T1_NbC_X_Y', 'T1_NbC_X_ZR', 'T1_NIAL_B2_X_AL', 'T1_NIAL_B2_X_CR',\n",
      "       'T1_NIAL_B2_X_FE', 'T1_NIAL_B2_X_NI', 'T1_NP_FCC', 'T1_NP_L12',\n",
      "       'T1_NP_M23C6', 'T1_NP_M2B_CB', 'T1_NP_M3B2_D5A', 'T1_NP_NbC',\n",
      "       'T1_NP_NIAL_B2', 'T1_VPV_FCC', 'T1_VPV_FECR_B2', 'T1_VPV_L12',\n",
      "       'T1_VPV_LAVES_C14', 'T1_VPV_M23C6', 'T1_VPV_M2B_CB',\n",
      "       'T1_VPV_M3B2_D5A', 'T1_VPV_NbC', 'T1_VPV_NIAL_B2', 'T1_VPV_SIGMA',\n",
      "       'T2', 'T2_DGM_FECR_B2', 'T2_DGM_L12', 'T2_DGM_NbC',\n",
      "       'T2_DGM_NIAL_B2', 'T2_FCC_ACR_AL', 'T2_FCC_ACR_CR',\n",
      "       'T2_FCC_ACR_CU', 'T2_FCC_ACR_FE', 'T2_FCC_ACR_MN', 'T2_FCC_ACR_MO',\n",
      "       'T2_FCC_ACR_NB', 'T2_FCC_ACR_NI', 'T2_FCC_ACR_SI', 'T2_FCC_ACR_TI',\n",
      "       'T2_FCC_ACR_V', 'T2_FCC_ACR_W', 'T2_FCC_ACR_Y', 'T2_FCC_ACR_ZR',\n",
      "       'T2_FCC_CX_AL', 'T2_FCC_CX_B', 'T2_FCC_CX_C', 'T2_FCC_CX_CR',\n",
      "       'T2_FCC_CX_CU', 'T2_FCC_CX_FE', 'T2_FCC_CX_MN', 'T2_FCC_CX_MO',\n",
      "       'T2_FCC_CX_NB', 'T2_FCC_CX_NI', 'T2_FCC_CX_SI', 'T2_FCC_CX_TI',\n",
      "       'T2_FCC_CX_V', 'T2_FCC_CX_W', 'T2_FCC_CX_Y', 'T2_FCC_CX_ZR',\n",
      "       'T2_FCC_X_AL', 'T2_FCC_X_B', 'T2_FCC_X_C', 'T2_FCC_X_CR',\n",
      "       'T2_FCC_X_CU', 'T2_FCC_X_FE', 'T2_FCC_X_MN', 'T2_FCC_X_MO',\n",
      "       'T2_FCC_X_NB', 'T2_FCC_X_NI', 'T2_FCC_X_SI', 'T2_FCC_X_TI',\n",
      "       'T2_FCC_X_V', 'T2_FCC_X_W', 'T2_FCC_X_Y', 'T2_FCC_X_ZR',\n",
      "       'T2_FECR_ACR_B2_AL', 'T2_FECR_ACR_B2_CR', 'T2_FECR_ACR_B2_FE',\n",
      "       'T2_FECR_ACR_B2_NI', 'T2_FECR_B2_X_AL', 'T2_FECR_B2_X_CR',\n",
      "       'T2_FECR_B2_X_FE', 'T2_FECR_B2_X_NI', 'T2_FECR_CX_AL',\n",
      "       'T2_FECR_CX_CR', 'T2_FECR_CX_FE', 'T2_FECR_CX_NI', 'T2_L12_ACR_AL',\n",
      "       'T2_L12_ACR_CR', 'T2_L12_ACR_CU', 'T2_L12_ACR_FE', 'T2_L12_ACR_MN',\n",
      "       'T2_L12_ACR_MO', 'T2_L12_ACR_NB', 'T2_L12_ACR_NI', 'T2_L12_ACR_SI',\n",
      "       'T2_L12_ACR_TI', 'T2_L12_ACR_V', 'T2_L12_ACR_W', 'T2_L12_ACR_Y',\n",
      "       'T2_L12_ACR_ZR', 'T2_L12_CX_AL', 'T2_L12_CX_B', 'T2_L12_CX_C',\n",
      "       'T2_L12_CX_CR', 'T2_L12_CX_CU', 'T2_L12_CX_FE', 'T2_L12_CX_MN',\n",
      "       'T2_L12_CX_MO', 'T2_L12_CX_NB', 'T2_L12_CX_NI', 'T2_L12_CX_SI',\n",
      "       'T2_L12_CX_TI', 'T2_L12_CX_V', 'T2_L12_CX_W', 'T2_L12_CX_Y',\n",
      "       'T2_L12_CX_ZR', 'T2_L12_X_AL', 'T2_L12_X_B', 'T2_L12_X_C',\n",
      "       'T2_L12_X_CR', 'T2_L12_X_CU', 'T2_L12_X_FE', 'T2_L12_X_MN',\n",
      "       'T2_L12_X_MO', 'T2_L12_X_NB', 'T2_L12_X_NI', 'T2_L12_X_SI',\n",
      "       'T2_L12_X_TI', 'T2_L12_X_V', 'T2_L12_X_W', 'T2_L12_X_Y',\n",
      "       'T2_L12_X_ZR', 'T2_LAVES_C14_ACR_AL', 'T2_LAVES_C14_ACR_CR',\n",
      "       'T2_LAVES_C14_ACR_CU', 'T2_LAVES_C14_ACR_FE',\n",
      "       'T2_LAVES_C14_ACR_MN', 'T2_LAVES_C14_ACR_MO',\n",
      "       'T2_LAVES_C14_ACR_NB', 'T2_LAVES_C14_ACR_NI',\n",
      "       'T2_LAVES_C14_ACR_SI', 'T2_LAVES_C14_ACR_TI', 'T2_LAVES_C14_ACR_V',\n",
      "       'T2_LAVES_C14_ACR_W', 'T2_LAVES_C14_ACR_Y', 'T2_LAVES_C14_ACR_ZR',\n",
      "       'T2_LAVES_C14_CX_AL', 'T2_LAVES_C14_CX_CR', 'T2_LAVES_C14_CX_CU',\n",
      "       'T2_LAVES_C14_CX_FE', 'T2_LAVES_C14_CX_MN', 'T2_LAVES_C14_CX_MO',\n",
      "       'T2_LAVES_C14_CX_NB', 'T2_LAVES_C14_CX_NI', 'T2_LAVES_C14_CX_SI',\n",
      "       'T2_LAVES_C14_CX_TI', 'T2_LAVES_C14_CX_V', 'T2_LAVES_C14_CX_W',\n",
      "       'T2_LAVES_C14_CX_Y', 'T2_LAVES_C14_CX_ZR', 'T2_LAVES_C14_X_AL',\n",
      "       'T2_LAVES_C14_X_CR', 'T2_LAVES_C14_X_CU', 'T2_LAVES_C14_X_FE',\n",
      "       'T2_LAVES_C14_X_MN', 'T2_LAVES_C14_X_MO', 'T2_LAVES_C14_X_NB',\n",
      "       'T2_LAVES_C14_X_NI', 'T2_LAVES_C14_X_SI', 'T2_LAVES_C14_X_TI',\n",
      "       'T2_LAVES_C14_X_V', 'T2_LAVES_C14_X_W', 'T2_LAVES_C14_X_Y',\n",
      "       'T2_LAVES_C14_X_ZR', 'T2_M23C6_CX_B', 'T2_M23C6_CX_C',\n",
      "       'T2_M23C6_CX_CR', 'T2_M23C6_CX_FE', 'T2_M23C6_CX_MN',\n",
      "       'T2_M23C6_CX_MO', 'T2_M23C6_CX_NI', 'T2_M23C6_CX_V',\n",
      "       'T2_M23C6_CX_W', 'T2_M23C6_X_B', 'T2_M23C6_X_C', 'T2_M23C6_X_CR',\n",
      "       'T2_M23C6_X_FE', 'T2_M23C6_X_MN', 'T2_M23C6_X_MO', 'T2_M23C6_X_NI',\n",
      "       'T2_M23C6_X_V', 'T2_M23C6_X_W', 'T2_M2B_CB_CX_B',\n",
      "       'T2_M2B_CB_CX_CR', 'T2_M2B_CB_CX_FE', 'T2_M2B_CB_CX_MN',\n",
      "       'T2_M2B_CB_CX_MO', 'T2_M2B_CB_CX_NI', 'T2_M2B_CB_X_B',\n",
      "       'T2_M2B_CB_X_CR', 'T2_M2B_CB_X_FE', 'T2_M2B_CB_X_MN',\n",
      "       'T2_M2B_CB_X_MO', 'T2_M2B_CB_X_NI', 'T2_M3B2_D5A_CX_B',\n",
      "       'T2_M3B2_D5A_CX_CR', 'T2_M3B2_D5A_CX_FE', 'T2_M3B2_D5A_CX_MO',\n",
      "       'T2_M3B2_D5A_CX_NI', 'T2_M3B2_D5A_CX_W', 'T2_M3B2_D5A_X_B',\n",
      "       'T2_M3B2_D5A_X_CR', 'T2_M3B2_D5A_X_FE', 'T2_M3B2_D5A_X_MO',\n",
      "       'T2_M3B2_D5A_X_NI', 'T2_M3B2_D5A_X_W', 'T2_NbC_ACR_AL',\n",
      "       'T2_NbC_ACR_CR', 'T2_NbC_ACR_CU', 'T2_NbC_ACR_FE', 'T2_NbC_ACR_MN',\n",
      "       'T2_NbC_ACR_MO', 'T2_NbC_ACR_NB', 'T2_NbC_ACR_NI', 'T2_NbC_ACR_SI',\n",
      "       'T2_NbC_ACR_TI', 'T2_NbC_ACR_V', 'T2_NbC_ACR_W', 'T2_NbC_ACR_Y',\n",
      "       'T2_NbC_ACR_ZR', 'T2_NbC_CX_AL', 'T2_NbC_CX_B', 'T2_NbC_CX_C',\n",
      "       'T2_NbC_CX_CR', 'T2_NbC_CX_CU', 'T2_NbC_CX_FE', 'T2_NbC_CX_MN',\n",
      "       'T2_NbC_CX_MO', 'T2_NbC_CX_NB', 'T2_NbC_CX_NI', 'T2_NbC_CX_SI',\n",
      "       'T2_NbC_CX_TI', 'T2_NbC_CX_V', 'T2_NbC_CX_W', 'T2_NbC_CX_Y',\n",
      "       'T2_NbC_CX_ZR', 'T2_NbC_X_AL', 'T2_NbC_X_B', 'T2_NbC_X_C',\n",
      "       'T2_NbC_X_CR', 'T2_NbC_X_CU', 'T2_NbC_X_FE', 'T2_NbC_X_MN',\n",
      "       'T2_NbC_X_MO', 'T2_NbC_X_NB', 'T2_NbC_X_NI', 'T2_NbC_X_SI',\n",
      "       'T2_NbC_X_TI', 'T2_NbC_X_V', 'T2_NbC_X_W', 'T2_NbC_X_Y',\n",
      "       'T2_NbC_X_ZR', 'T2_NIAL_ACR_B2_AL', 'T2_NIAL_ACR_B2_CR',\n",
      "       'T2_NIAL_ACR_B2_FE', 'T2_NIAL_ACR_B2_NI', 'T2_NIAL_B2_X_AL',\n",
      "       'T2_NIAL_B2_X_CR', 'T2_NIAL_B2_X_FE', 'T2_NIAL_B2_X_NI',\n",
      "       'T2_NIAL_CX_AL', 'T2_NIAL_CX_CR', 'T2_NIAL_CX_FE', 'T2_NIAL_CX_NI',\n",
      "       'T2_NP_FCC', 'T2_NP_FECR_B2', 'T2_NP_L12', 'T2_NP_LAVES_C14',\n",
      "       'T2_NP_M23C6', 'T2_NP_M2B_CB', 'T2_NP_M3B2_D5A', 'T2_NP_NbC',\n",
      "       'T2_NP_NIAL_B2', 'T2_NP_SIGMA', 'T2_SIGMA_CX_AL', 'T2_SIGMA_CX_CR',\n",
      "       'T2_SIGMA_CX_FE', 'T2_SIGMA_CX_MN', 'T2_SIGMA_CX_MO',\n",
      "       'T2_SIGMA_CX_NB', 'T2_SIGMA_CX_NI', 'T2_SIGMA_CX_SI',\n",
      "       'T2_SIGMA_CX_TI', 'T2_SIGMA_CX_V', 'T2_SIGMA_CX_W',\n",
      "       'T2_SIGMA_X_AL', 'T2_SIGMA_X_CR', 'T2_SIGMA_X_FE', 'T2_SIGMA_X_MN',\n",
      "       'T2_SIGMA_X_MO', 'T2_SIGMA_X_NB', 'T2_SIGMA_X_NI', 'T2_SIGMA_X_SI',\n",
      "       'T2_SIGMA_X_TI', 'T2_SIGMA_X_V', 'T2_SIGMA_X_W', 'T2_VPV_FCC',\n",
      "       'T2_VPV_FECR_B2', 'T2_VPV_L12', 'T2_VPV_LAVES_C14', 'T2_VPV_M23C6',\n",
      "       'T2_VPV_M2B_CB', 'T2_VPV_M3B2_D5A', 'T2_VPV_NbC', 'T2_VPV_NIAL_B2',\n",
      "       'T2_VPV_SIGMA', 'xAL', 'xB', 'xC', 'xCR', 'xCU', 'xFE', 'xMN',\n",
      "       'xMO', 'xNB', 'xNI', 'xSI', 'xTI', 'xV', 'xW', 'xY', 'xZR', 'Nb_C',\n",
      "       'TP347HFG-NF709', 'TP347HFG'], dtype='<U19'), 'target_col': 'LMP', 'RMSE': 43152.66291252195, 'R2': -1972.5538143880594, 'fitted_scaler_x': StandardScaler(copy=True, with_mean=True, with_std=True)}\n",
      "* Trained model saved to file: ./KR-model-tuned-tag.pkl\n"
     ]
    }
   ],
   "source": [
    "# train and save\n",
    "model = asc.define_model_regression(model_type, num_of_features, model_parameters=tuned_parameters, x_header_size = x_train.shape[1])\n",
    "\n",
    "asc.train_and_save(model, model_type+'-model-tuned-tag', model_type\n",
    "                   , input_cols=header_x, target_col=header_y\n",
    "                   , x_train=x_train, y_train=y_train, scaler_option=scaler_option, path_to_save = '.')"
   ]
  },
  {
   "cell_type": "code",
   "execution_count": 12,
   "metadata": {},
   "outputs": [
    {
     "name": "stdout",
     "output_type": "stream",
     "text": [
      "Fitting 5 folds for each of 2000 candidates, totalling 10000 fits\n"
     ]
    },
    {
     "name": "stderr",
     "output_type": "stream",
     "text": [
      "[Parallel(n_jobs=-1)]: Using backend LokyBackend with 8 concurrent workers.\n",
      "[Parallel(n_jobs=-1)]: Done  34 tasks      | elapsed:    3.0s\n",
      "[Parallel(n_jobs=-1)]: Done 184 tasks      | elapsed:   30.2s\n"
     ]
    },
    {
     "ename": "KeyboardInterrupt",
     "evalue": "",
     "output_type": "error",
     "traceback": [
      "\u001b[0;31m---------------------------------------------------------------------------\u001b[0m",
      "\u001b[0;31mKeyboardInterrupt\u001b[0m                         Traceback (most recent call last)",
      "\u001b[0;32m<ipython-input-12-c520399a9933>\u001b[0m in \u001b[0;36m<module>\u001b[0;34m()\u001b[0m\n\u001b[1;32m      4\u001b[0m     tuned_parameters = asc.hyperparameter_tuning(model_type, x_train, y_train\n\u001b[1;32m      5\u001b[0m                                              \u001b[0;34m,\u001b[0m \u001b[0mnum_of_folds\u001b[0m\u001b[0;34m,\u001b[0m \u001b[0mscaler_option\u001b[0m\u001b[0;34m\u001b[0m\u001b[0m\n\u001b[0;32m----> 6\u001b[0;31m                                              , n_iter=2000, random_state=0, verbose=1)\n\u001b[0m\u001b[1;32m      7\u001b[0m     \u001b[0;31m# prediction with the tuned parameter\u001b[0m\u001b[0;34m\u001b[0m\u001b[0;34m\u001b[0m\u001b[0m\n\u001b[1;32m      8\u001b[0m     \u001b[0mmodel\u001b[0m \u001b[0;34m=\u001b[0m \u001b[0masc\u001b[0m\u001b[0;34m.\u001b[0m\u001b[0mdefine_model_regression\u001b[0m\u001b[0;34m(\u001b[0m\u001b[0mmodel_type\u001b[0m\u001b[0;34m,\u001b[0m \u001b[0mnum_of_features\u001b[0m\u001b[0;34m,\u001b[0m \u001b[0mtuned_parameters\u001b[0m\u001b[0;34m,\u001b[0m \u001b[0mx_header_size\u001b[0m \u001b[0;34m=\u001b[0m \u001b[0mx_train\u001b[0m\u001b[0;34m.\u001b[0m\u001b[0mshape\u001b[0m\u001b[0;34m[\u001b[0m\u001b[0;36m1\u001b[0m\u001b[0;34m]\u001b[0m\u001b[0;34m)\u001b[0m\u001b[0;34m\u001b[0m\u001b[0m\n",
      "\u001b[0;32m/Users/slz/git_projects/ascends-toolkit/ascends.py\u001b[0m in \u001b[0;36mhyperparameter_tuning\u001b[0;34m(tag, x_train, y_train, num_of_folds, scaler_option, n_iter, random_state, verbose)\u001b[0m\n\u001b[1;32m    615\u001b[0m         \u001b[0my_train_\u001b[0m \u001b[0;34m=\u001b[0m \u001b[0my_train\u001b[0m\u001b[0;34m.\u001b[0m\u001b[0mreshape\u001b[0m\u001b[0;34m(\u001b[0m\u001b[0my_train\u001b[0m\u001b[0;34m.\u001b[0m\u001b[0mshape\u001b[0m\u001b[0;34m[\u001b[0m\u001b[0;36m0\u001b[0m\u001b[0;34m]\u001b[0m\u001b[0;34m,\u001b[0m\u001b[0;34m)\u001b[0m\u001b[0;34m\u001b[0m\u001b[0m\n\u001b[1;32m    616\u001b[0m \u001b[0;34m\u001b[0m\u001b[0m\n\u001b[0;32m--> 617\u001b[0;31m         \u001b[0mmodel\u001b[0m\u001b[0;34m.\u001b[0m\u001b[0mfit\u001b[0m\u001b[0;34m(\u001b[0m\u001b[0mx_train_\u001b[0m\u001b[0;34m,\u001b[0m \u001b[0my_train_\u001b[0m\u001b[0;34m)\u001b[0m\u001b[0;34m\u001b[0m\u001b[0m\n\u001b[0m\u001b[1;32m    618\u001b[0m         \u001b[0mtuned_parameters\u001b[0m \u001b[0;34m=\u001b[0m \u001b[0madd_key_to_params\u001b[0m\u001b[0;34m(\u001b[0m\u001b[0mtag\u001b[0m\u001b[0;34m,\u001b[0m \u001b[0mmodel\u001b[0m\u001b[0;34m.\u001b[0m\u001b[0mbest_params_\u001b[0m\u001b[0;34m)\u001b[0m\u001b[0;34m\u001b[0m\u001b[0m\n\u001b[1;32m    619\u001b[0m \u001b[0;34m\u001b[0m\u001b[0m\n",
      "\u001b[0;32m/Users/slz/anaconda/lib/python3.6/site-packages/sklearn/model_selection/_search.py\u001b[0m in \u001b[0;36mfit\u001b[0;34m(self, X, y, groups, **fit_params)\u001b[0m\n\u001b[1;32m    720\u001b[0m                 \u001b[0;32mreturn\u001b[0m \u001b[0mresults_container\u001b[0m\u001b[0;34m[\u001b[0m\u001b[0;36m0\u001b[0m\u001b[0;34m]\u001b[0m\u001b[0;34m\u001b[0m\u001b[0m\n\u001b[1;32m    721\u001b[0m \u001b[0;34m\u001b[0m\u001b[0m\n\u001b[0;32m--> 722\u001b[0;31m             \u001b[0mself\u001b[0m\u001b[0;34m.\u001b[0m\u001b[0m_run_search\u001b[0m\u001b[0;34m(\u001b[0m\u001b[0mevaluate_candidates\u001b[0m\u001b[0;34m)\u001b[0m\u001b[0;34m\u001b[0m\u001b[0m\n\u001b[0m\u001b[1;32m    723\u001b[0m \u001b[0;34m\u001b[0m\u001b[0m\n\u001b[1;32m    724\u001b[0m         \u001b[0mresults\u001b[0m \u001b[0;34m=\u001b[0m \u001b[0mresults_container\u001b[0m\u001b[0;34m[\u001b[0m\u001b[0;36m0\u001b[0m\u001b[0;34m]\u001b[0m\u001b[0;34m\u001b[0m\u001b[0m\n",
      "\u001b[0;32m/Users/slz/anaconda/lib/python3.6/site-packages/sklearn/model_selection/_search.py\u001b[0m in \u001b[0;36m_run_search\u001b[0;34m(self, evaluate_candidates)\u001b[0m\n\u001b[1;32m   1513\u001b[0m         evaluate_candidates(ParameterSampler(\n\u001b[1;32m   1514\u001b[0m             \u001b[0mself\u001b[0m\u001b[0;34m.\u001b[0m\u001b[0mparam_distributions\u001b[0m\u001b[0;34m,\u001b[0m \u001b[0mself\u001b[0m\u001b[0;34m.\u001b[0m\u001b[0mn_iter\u001b[0m\u001b[0;34m,\u001b[0m\u001b[0;34m\u001b[0m\u001b[0m\n\u001b[0;32m-> 1515\u001b[0;31m             random_state=self.random_state))\n\u001b[0m",
      "\u001b[0;32m/Users/slz/anaconda/lib/python3.6/site-packages/sklearn/model_selection/_search.py\u001b[0m in \u001b[0;36mevaluate_candidates\u001b[0;34m(candidate_params)\u001b[0m\n\u001b[1;32m    709\u001b[0m                                \u001b[0;32mfor\u001b[0m \u001b[0mparameters\u001b[0m\u001b[0;34m,\u001b[0m \u001b[0;34m(\u001b[0m\u001b[0mtrain\u001b[0m\u001b[0;34m,\u001b[0m \u001b[0mtest\u001b[0m\u001b[0;34m)\u001b[0m\u001b[0;34m\u001b[0m\u001b[0m\n\u001b[1;32m    710\u001b[0m                                in product(candidate_params,\n\u001b[0;32m--> 711\u001b[0;31m                                           cv.split(X, y, groups)))\n\u001b[0m\u001b[1;32m    712\u001b[0m \u001b[0;34m\u001b[0m\u001b[0m\n\u001b[1;32m    713\u001b[0m                 \u001b[0mall_candidate_params\u001b[0m\u001b[0;34m.\u001b[0m\u001b[0mextend\u001b[0m\u001b[0;34m(\u001b[0m\u001b[0mcandidate_params\u001b[0m\u001b[0;34m)\u001b[0m\u001b[0;34m\u001b[0m\u001b[0m\n",
      "\u001b[0;32m/Users/slz/anaconda/lib/python3.6/site-packages/sklearn/externals/joblib/parallel.py\u001b[0m in \u001b[0;36m__call__\u001b[0;34m(self, iterable)\u001b[0m\n\u001b[1;32m    928\u001b[0m \u001b[0;34m\u001b[0m\u001b[0m\n\u001b[1;32m    929\u001b[0m             \u001b[0;32mwith\u001b[0m \u001b[0mself\u001b[0m\u001b[0;34m.\u001b[0m\u001b[0m_backend\u001b[0m\u001b[0;34m.\u001b[0m\u001b[0mretrieval_context\u001b[0m\u001b[0;34m(\u001b[0m\u001b[0;34m)\u001b[0m\u001b[0;34m:\u001b[0m\u001b[0;34m\u001b[0m\u001b[0m\n\u001b[0;32m--> 930\u001b[0;31m                 \u001b[0mself\u001b[0m\u001b[0;34m.\u001b[0m\u001b[0mretrieve\u001b[0m\u001b[0;34m(\u001b[0m\u001b[0;34m)\u001b[0m\u001b[0;34m\u001b[0m\u001b[0m\n\u001b[0m\u001b[1;32m    931\u001b[0m             \u001b[0;31m# Make sure that we get a last message telling us we are done\u001b[0m\u001b[0;34m\u001b[0m\u001b[0;34m\u001b[0m\u001b[0m\n\u001b[1;32m    932\u001b[0m             \u001b[0melapsed_time\u001b[0m \u001b[0;34m=\u001b[0m \u001b[0mtime\u001b[0m\u001b[0;34m.\u001b[0m\u001b[0mtime\u001b[0m\u001b[0;34m(\u001b[0m\u001b[0;34m)\u001b[0m \u001b[0;34m-\u001b[0m \u001b[0mself\u001b[0m\u001b[0;34m.\u001b[0m\u001b[0m_start_time\u001b[0m\u001b[0;34m\u001b[0m\u001b[0m\n",
      "\u001b[0;32m/Users/slz/anaconda/lib/python3.6/site-packages/sklearn/externals/joblib/parallel.py\u001b[0m in \u001b[0;36mretrieve\u001b[0;34m(self)\u001b[0m\n\u001b[1;32m    831\u001b[0m             \u001b[0;32mtry\u001b[0m\u001b[0;34m:\u001b[0m\u001b[0;34m\u001b[0m\u001b[0m\n\u001b[1;32m    832\u001b[0m                 \u001b[0;32mif\u001b[0m \u001b[0mgetattr\u001b[0m\u001b[0;34m(\u001b[0m\u001b[0mself\u001b[0m\u001b[0;34m.\u001b[0m\u001b[0m_backend\u001b[0m\u001b[0;34m,\u001b[0m \u001b[0;34m'supports_timeout'\u001b[0m\u001b[0;34m,\u001b[0m \u001b[0;32mFalse\u001b[0m\u001b[0;34m)\u001b[0m\u001b[0;34m:\u001b[0m\u001b[0;34m\u001b[0m\u001b[0m\n\u001b[0;32m--> 833\u001b[0;31m                     \u001b[0mself\u001b[0m\u001b[0;34m.\u001b[0m\u001b[0m_output\u001b[0m\u001b[0;34m.\u001b[0m\u001b[0mextend\u001b[0m\u001b[0;34m(\u001b[0m\u001b[0mjob\u001b[0m\u001b[0;34m.\u001b[0m\u001b[0mget\u001b[0m\u001b[0;34m(\u001b[0m\u001b[0mtimeout\u001b[0m\u001b[0;34m=\u001b[0m\u001b[0mself\u001b[0m\u001b[0;34m.\u001b[0m\u001b[0mtimeout\u001b[0m\u001b[0;34m)\u001b[0m\u001b[0;34m)\u001b[0m\u001b[0;34m\u001b[0m\u001b[0m\n\u001b[0m\u001b[1;32m    834\u001b[0m                 \u001b[0;32melse\u001b[0m\u001b[0;34m:\u001b[0m\u001b[0;34m\u001b[0m\u001b[0m\n\u001b[1;32m    835\u001b[0m                     \u001b[0mself\u001b[0m\u001b[0;34m.\u001b[0m\u001b[0m_output\u001b[0m\u001b[0;34m.\u001b[0m\u001b[0mextend\u001b[0m\u001b[0;34m(\u001b[0m\u001b[0mjob\u001b[0m\u001b[0;34m.\u001b[0m\u001b[0mget\u001b[0m\u001b[0;34m(\u001b[0m\u001b[0;34m)\u001b[0m\u001b[0;34m)\u001b[0m\u001b[0;34m\u001b[0m\u001b[0m\n",
      "\u001b[0;32m/Users/slz/anaconda/lib/python3.6/site-packages/sklearn/externals/joblib/_parallel_backends.py\u001b[0m in \u001b[0;36mwrap_future_result\u001b[0;34m(future, timeout)\u001b[0m\n\u001b[1;32m    519\u001b[0m         AsyncResults.get from multiprocessing.\"\"\"\n\u001b[1;32m    520\u001b[0m         \u001b[0;32mtry\u001b[0m\u001b[0;34m:\u001b[0m\u001b[0;34m\u001b[0m\u001b[0m\n\u001b[0;32m--> 521\u001b[0;31m             \u001b[0;32mreturn\u001b[0m \u001b[0mfuture\u001b[0m\u001b[0;34m.\u001b[0m\u001b[0mresult\u001b[0m\u001b[0;34m(\u001b[0m\u001b[0mtimeout\u001b[0m\u001b[0;34m=\u001b[0m\u001b[0mtimeout\u001b[0m\u001b[0;34m)\u001b[0m\u001b[0;34m\u001b[0m\u001b[0m\n\u001b[0m\u001b[1;32m    522\u001b[0m         \u001b[0;32mexcept\u001b[0m \u001b[0mLokyTimeoutError\u001b[0m\u001b[0;34m:\u001b[0m\u001b[0;34m\u001b[0m\u001b[0m\n\u001b[1;32m    523\u001b[0m             \u001b[0;32mraise\u001b[0m \u001b[0mTimeoutError\u001b[0m\u001b[0;34m(\u001b[0m\u001b[0;34m)\u001b[0m\u001b[0;34m\u001b[0m\u001b[0m\n",
      "\u001b[0;32m/Users/slz/anaconda/lib/python3.6/concurrent/futures/_base.py\u001b[0m in \u001b[0;36mresult\u001b[0;34m(self, timeout)\u001b[0m\n\u001b[1;32m    398\u001b[0m                 \u001b[0;32mreturn\u001b[0m \u001b[0mself\u001b[0m\u001b[0;34m.\u001b[0m\u001b[0m__get_result\u001b[0m\u001b[0;34m(\u001b[0m\u001b[0;34m)\u001b[0m\u001b[0;34m\u001b[0m\u001b[0m\n\u001b[1;32m    399\u001b[0m \u001b[0;34m\u001b[0m\u001b[0m\n\u001b[0;32m--> 400\u001b[0;31m             \u001b[0mself\u001b[0m\u001b[0;34m.\u001b[0m\u001b[0m_condition\u001b[0m\u001b[0;34m.\u001b[0m\u001b[0mwait\u001b[0m\u001b[0;34m(\u001b[0m\u001b[0mtimeout\u001b[0m\u001b[0;34m)\u001b[0m\u001b[0;34m\u001b[0m\u001b[0m\n\u001b[0m\u001b[1;32m    401\u001b[0m \u001b[0;34m\u001b[0m\u001b[0m\n\u001b[1;32m    402\u001b[0m             \u001b[0;32mif\u001b[0m \u001b[0mself\u001b[0m\u001b[0;34m.\u001b[0m\u001b[0m_state\u001b[0m \u001b[0;32min\u001b[0m \u001b[0;34m[\u001b[0m\u001b[0mCANCELLED\u001b[0m\u001b[0;34m,\u001b[0m \u001b[0mCANCELLED_AND_NOTIFIED\u001b[0m\u001b[0;34m]\u001b[0m\u001b[0;34m:\u001b[0m\u001b[0;34m\u001b[0m\u001b[0m\n",
      "\u001b[0;32m/Users/slz/anaconda/lib/python3.6/threading.py\u001b[0m in \u001b[0;36mwait\u001b[0;34m(self, timeout)\u001b[0m\n\u001b[1;32m    293\u001b[0m         \u001b[0;32mtry\u001b[0m\u001b[0;34m:\u001b[0m    \u001b[0;31m# restore state no matter what (e.g., KeyboardInterrupt)\u001b[0m\u001b[0;34m\u001b[0m\u001b[0m\n\u001b[1;32m    294\u001b[0m             \u001b[0;32mif\u001b[0m \u001b[0mtimeout\u001b[0m \u001b[0;32mis\u001b[0m \u001b[0;32mNone\u001b[0m\u001b[0;34m:\u001b[0m\u001b[0;34m\u001b[0m\u001b[0m\n\u001b[0;32m--> 295\u001b[0;31m                 \u001b[0mwaiter\u001b[0m\u001b[0;34m.\u001b[0m\u001b[0macquire\u001b[0m\u001b[0;34m(\u001b[0m\u001b[0;34m)\u001b[0m\u001b[0;34m\u001b[0m\u001b[0m\n\u001b[0m\u001b[1;32m    296\u001b[0m                 \u001b[0mgotit\u001b[0m \u001b[0;34m=\u001b[0m \u001b[0;32mTrue\u001b[0m\u001b[0;34m\u001b[0m\u001b[0m\n\u001b[1;32m    297\u001b[0m             \u001b[0;32melse\u001b[0m\u001b[0;34m:\u001b[0m\u001b[0;34m\u001b[0m\u001b[0m\n",
      "\u001b[0;31mKeyboardInterrupt\u001b[0m: "
     ]
    }
   ],
   "source": [
    "# hyperparameter tuning and show how it performs\n",
    "\n",
    "for model_type in ['RF','SVM','KR','BR','RF']:\n",
    "    tuned_parameters = asc.hyperparameter_tuning(model_type, x_train, y_train\n",
    "                                             , num_of_folds, scaler_option\n",
    "                                             , n_iter=2000, random_state=0, verbose=1)\n",
    "    # prediction with the tuned parameter\n",
    "    model = asc.define_model_regression(model_type, num_of_features, tuned_parameters, x_header_size = x_train.shape[1])\n",
    "    predictions, actual_values = asc.train_and_predict(model, x_train, y_train, scaler_option, num_of_folds=num_of_folds)\n",
    "    RMSE, R2 = asc.evaluate(predictions, actual_values)\n",
    "    print(\"* tuned (%s)\\t RMSE = %8.3f, R2 = %8.3f\"%(model_type, RMSE, R2))\n",
    "    asc.show_comparison_chart(predictions, actual_values)\n"
   ]
  },
  {
   "cell_type": "code",
   "execution_count": null,
   "metadata": {
    "collapsed": true
   },
   "outputs": [],
   "source": [
    "from sklearn.preprocessing import StandardScaler\n",
    "from matplotlib import pyplot as plt\n",
    "layer = 4\n",
    "params = [158, 1, 65, 179]\n",
    "dropout = 0.0119\n",
    "l_2 = 0.0481\n",
    "lr=0.000262\n",
    "epochs = 1000\n",
    "batch_size = 2\n",
    "num_of_folds = 5\n",
    "j = 0\n",
    "\n",
    "# Splitting the data for k-fold cross validation\n",
    "x_trains, y_trains, x_tests, y_tests = asc.split_data(x_train, y_train, num_of_folds=num_of_folds)\n",
    "\n",
    "# defining a model\n",
    "model = asc.net_define(params = params, layer_n = layer, input_size = x_trains[j].shape[1], dropout=dropout, l_2=l_2)\n",
    "model.summary()\n",
    "\n",
    "# choose your scaler\n",
    "scale = StandardScaler()\n",
    "x_train_ = scale.fit_transform(x_trains[j])\n",
    "\n",
    "# This is the change\n",
    "x_test_ = scale.transform(x_tests[j])\n",
    "\n",
    "# evaluating a model\n",
    "print('Training initiated ..')\n",
    "\n",
    "optimizer = keras.optimizers.Adam(lr=lr)\n",
    "\n",
    "score, history = asc.evaluate_net(model, epochs=epochs, batch_size=batch_size, x_train = x_train_, y_train = y_trains[0], x_test = x_test_, y_test = y_tests[0], verbose = 0, optimizer=optimizer)\n",
    "plt.plot(history.history['mean_absolute_percentage_error'])\n",
    "plt.show()\n",
    "\n",
    "print('Model Test mean_absolute_percentage_error:', score[1])"
   ]
  },
  {
   "cell_type": "code",
   "execution_count": null,
   "metadata": {
    "collapsed": true
   },
   "outputs": [],
   "source": [
    "# visualize the prediction\n",
    "asc.show_comparison_chart_model_x(model, x_test_, y_tests[0])"
   ]
  },
  {
   "cell_type": "code",
   "execution_count": null,
   "metadata": {
    "collapsed": true
   },
   "outputs": [],
   "source": [
    "layer = None\n",
    "params = None\n",
    "dropout = 0.0119\n",
    "l_2 = 0.0481\n",
    "lr = 0.000262\n",
    "epochs = 1000\n",
    "batch_size = 2\n",
    "num_of_folds = 5\n",
    "tries = 1000\n",
    "neuron_max = 256\n",
    "batch_size_max = 5\n",
    "layer_min = 4\n",
    "layer_max = 4\n",
    "dropout_max=0.02\n",
    "\n",
    "asc.net_tuning(tries = tries, lr = lr, x_trains = x_trains, y_trains = y_trains, x_tests = x_tests, y_tests = y_tests, layer = layer, params=params, epochs=epochs, batch_size=batch_size, dropout=dropout, l_2 = l_2, neuron_max=neuron_max, batch_size_max=batch_size_max, layer_min = layer_min, layer_max=layer_max, dropout_max=dropout_max)"
   ]
  },
  {
   "cell_type": "code",
   "execution_count": null,
   "metadata": {
    "collapsed": true
   },
   "outputs": [],
   "source": []
  }
 ],
 "metadata": {
  "kernelspec": {
   "display_name": "Python 3",
   "language": "python",
   "name": "python3"
  }
 },
 "nbformat": 4,
 "nbformat_minor": 2
}
